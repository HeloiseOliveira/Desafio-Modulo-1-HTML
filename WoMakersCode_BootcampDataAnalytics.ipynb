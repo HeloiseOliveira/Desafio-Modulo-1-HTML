{
  "nbformat": 4,
  "nbformat_minor": 0,
  "metadata": {
    "colab": {
      "provenance": [],
      "include_colab_link": true
    },
    "kernelspec": {
      "name": "python3",
      "display_name": "Python 3"
    },
    "language_info": {
      "name": "python"
    }
  },
  "cells": [
    {
      "cell_type": "markdown",
      "metadata": {
        "id": "view-in-github",
        "colab_type": "text"
      },
      "source": [
        "<a href=\"https://colab.research.google.com/github/HeloiseOliveira/Desafio-Modulo-1-HTML/blob/main/WoMakersCode_BootcampDataAnalytics.ipynb\" target=\"_parent\"><img src=\"https://colab.research.google.com/assets/colab-badge.svg\" alt=\"Open In Colab\"/></a>"
      ]
    },
    {
      "cell_type": "markdown",
      "source": [
        "1 ) Para determinar se um candidato está qualificado para uma vaga de emprego, são aplicados dois critérios:\n",
        "\n",
        "a) O candidato deve ter uma presença igual ou superior a 60% em um treinamento obrigatório.\n",
        "\n",
        "b) O candidato deve ter uma média de desempenho igual ou superior a 7 em uma série de testes.\n",
        "\n",
        "Para auxiliar na avaliação dos candidatos, você deve criar uma função que recebe uma lista de dicionários contendo o nome do candidato, a média de desempenho e a quantidade de horas de ausência do treinamento. Com esses dados, a função deve calcular se o candidato está qualificado ou não. A presença do candidato é calculada considerando que o treinamento teve um total de 60 horas e utilizando a fórmula:\n",
        "\n",
        "(Total horas - número de faltas)/Total horas * 100;\n"
      ],
      "metadata": {
        "id": "3UpM724I5C19"
      }
    },
    {
      "cell_type": "code",
      "source": [
        "def avaliar_candidato(candidato):\n",
        "    def calcular_presenca(quantidade_horas, faltas):\n",
        "        total_horas = 60\n",
        "        presenca = ((total_horas - faltas) / total_horas) * 100\n",
        "        return presenca\n",
        "\n",
        "    presenca_minima = 60\n",
        "    media_minima = 7\n",
        "\n",
        "    nome = candidato['nome']\n",
        "    media_desempenho = candidato['media_desempenho']\n",
        "    horas_ausencia = candidato['horas_ausencia']\n",
        "\n",
        "    presenca = calcular_presenca(60, horas_ausencia)\n",
        "\n",
        "    if presenca >= presenca_minima and media_desempenho >= media_minima:\n",
        "        return f'O candidato {nome} está qualificado para a vaga de emprego.'\n",
        "    else:\n",
        "        return f'O candidato {nome} não está qualificado para a vaga de emprego.'\n",
        "\n",
        "# Exemplo de uso:\n",
        "candidatos = [\n",
        "    {'nome': 'Candidato1', 'media_desempenho': 8, 'horas_ausencia': 10},\n",
        "    {'nome': 'Candidato2', 'media_desempenho': 6, 'horas_ausencia': 5},\n",
        "    # Adicione mais candidatos conforme necessário\n",
        "]\n",
        "\n",
        "for candidato in candidatos:\n",
        "    print(avaliar_candidato(candidato))\n"
      ],
      "metadata": {
        "id": "Xv1MnjPQvkSt",
        "colab": {
          "base_uri": "https://localhost:8080/"
        },
        "outputId": "b6dee182-c062-4315-a88f-dd287ab3bad6"
      },
      "execution_count": 1,
      "outputs": [
        {
          "output_type": "stream",
          "name": "stdout",
          "text": [
            "O candidato Candidato1 está qualificado para a vaga de emprego.\n",
            "O candidato Candidato2 não está qualificado para a vaga de emprego.\n"
          ]
        }
      ]
    },
    {
      "cell_type": "markdown",
      "source": [
        "2) Crie uma função que recebe uma palavra (string), separa todos os caracteres em uma lista, retorna esta lista e quantidade de letras."
      ],
      "metadata": {
        "id": "fKKdyWo55e8w"
      }
    },
    {
      "cell_type": "code",
      "source": [
        "def separar_caracteres(palavra):\n",
        "    lista_caracteres = list(palavra)\n",
        "    quantidade_letras = sum(c.isalpha() for c in palavra)\n",
        "    return lista_caracteres, quantidade_letras\n",
        "\n",
        "# Exemplo de uso:\n",
        "palavra_exemplo = \"Python123\"\n",
        "caracteres, quantidade = separar_caracteres(palavra_exemplo)\n",
        "\n",
        "print(f\"A lista de caracteres é: {caracteres}\")\n",
        "print(f\"A quantidade de letras na palavra é: {quantidade}\")\n"
      ],
      "metadata": {
        "id": "Qq7QoqubvjbG",
        "colab": {
          "base_uri": "https://localhost:8080/"
        },
        "outputId": "fb514d32-5a30-4e8b-f86e-2233daf41600"
      },
      "execution_count": 2,
      "outputs": [
        {
          "output_type": "stream",
          "name": "stdout",
          "text": [
            "A lista de caracteres é: ['P', 'y', 't', 'h', 'o', 'n', '1', '2', '3']\n",
            "A quantidade de letras na palavra é: 6\n"
          ]
        }
      ]
    },
    {
      "cell_type": "markdown",
      "source": [
        "3) Crie um programa que leia quanto dinheiro uma pessoa tem na carteira, e calcule quanto poderia comprar de cada moeda estrangeira. Considere a tabela de conversão abaixo:\n",
        "\n",
        "Valor convertido em real:\n",
        "*   Dólar Americano: 4,91\n",
        "*   Peso Argentino: 0,02\n",
        "*   Dólar Australiano: 3,18\n",
        "*   Dólar Canadense: 3,64\n",
        "*   Franco Suiço: 0,42\n",
        "*   Euro:  5,36\n",
        "*   Libra esterlina: 6,21\n",
        "\n",
        "\n",
        "\n",
        "\n",
        "\n",
        "\n",
        "\n"
      ],
      "metadata": {
        "id": "EEXxWdjH5sju"
      }
    },
    {
      "cell_type": "code",
      "source": [
        "\n",
        "def converter_moedas(valor_em_real):\n",
        "    taxa_dolar = 4.91\n",
        "    taxa_peso_argentino = 0.02\n",
        "    taxa_dolar_australiano = 3.18\n",
        "    taxa_dolar_canadense = 3.64\n",
        "    taxa_franco_suico = 0.42\n",
        "    taxa_euro = 5.36\n",
        "    taxa_libra_esterlina = 6.21\n",
        "\n",
        "    valor_dolar = valor_em_real / taxa_dolar\n",
        "    valor_peso_argentino = valor_em_real / taxa_peso_argentino\n",
        "    valor_dolar_australiano = valor_em_real / taxa_dolar_australiano\n",
        "    valor_dolar_canadense = valor_em_real / taxa_dolar_canadense\n",
        "    valor_franco_suico = valor_em_real / taxa_franco_suico\n",
        "    valor_euro = valor_em_real / taxa_euro\n",
        "    valor_libra_esterlina = valor_em_real / taxa_libra_esterlina\n",
        "\n",
        "    return {\n",
        "        'Dólar Americano': valor_dolar,\n",
        "        'Peso Argentino': valor_peso_argentino,\n",
        "        'Dólar Australiano': valor_dolar_australiano,\n",
        "        'Dólar Canadense': valor_dolar_canadense,\n",
        "        'Franco Suiço': valor_franco_suico,\n",
        "        'Euro': valor_euro,\n",
        "        'Libra esterlina': valor_libra_esterlina\n",
        "    }\n",
        "\n",
        "# Entrada do usuário\n",
        "valor_em_real = float(input(\"Digite o valor em reais na carteira: \"))\n",
        "\n",
        "# Chamada da função\n",
        "resultados = converter_moedas(valor_em_real)\n",
        "\n",
        "# Exibição dos resultados\n",
        "print(\"\\nValor em reais:\", valor_em_real)\n",
        "for moeda, valor_convertido in resultados.items():\n",
        "    print(f\"{moeda}: {valor_convertido:.2f}\")\n",
        "\n",
        "\n"
      ],
      "metadata": {
        "id": "BFil1HpZvbFg",
        "colab": {
          "base_uri": "https://localhost:8080/"
        },
        "outputId": "c7cbc148-2f80-478d-9d89-edc378bb0257"
      },
      "execution_count": 4,
      "outputs": [
        {
          "output_type": "stream",
          "name": "stdout",
          "text": [
            "Digite o valor em reais na carteira: 500\n",
            "\n",
            "Valor em reais: 500.0\n",
            "Dólar Americano: 101.83\n",
            "Peso Argentino: 25000.00\n",
            "Dólar Australiano: 157.23\n",
            "Dólar Canadense: 137.36\n",
            "Franco Suiço: 1190.48\n",
            "Euro: 93.28\n",
            "Libra esterlina: 80.52\n"
          ]
        }
      ]
    },
    {
      "cell_type": "markdown",
      "source": [
        "\n",
        "4) O chefe decidiu premiar os melhores funcionários de sua empresa com um brinde. Para isso ela vai entregar um brinde para todos os funcionários que tiverem uma performance superior a média da equipe.\n",
        "\n",
        "Elabore uma função que recebe uma lista de nome em formato de dict (dicionário) com nome do funcionário e a média do funcionário (Valor de 0 a 10). Esta função deve calcular a média da equipe, identificar quais funcionários tem média igual ou superior a média da equipe e retornar uma lista com o nome dos funcionários que possuem média igual ou superior a média da equipe. A ordem dos nomes da lista de retorno deve ser em ordem decrescente."
      ],
      "metadata": {
        "id": "Tj2Ds76-6FXs"
      }
    },
    {
      "cell_type": "code",
      "source": [
        "def funcionarios_acima_da_media(lista_funcionarios):\n",
        "    # Calcula a média da equipe\n",
        "    media_equipe = sum(funcionario['media'] for funcionario in lista_funcionarios) / len(lista_funcionarios)\n",
        "\n",
        "    # Filtra os funcionários com média igual ou superior à média da equipe\n",
        "    funcionarios_acima_media = [funcionario['nome'] for funcionario in lista_funcionarios if funcionario['media'] >= media_equipe]\n",
        "\n",
        "    # Ordena a lista em ordem decrescente\n",
        "    funcionarios_acima_media = sorted(funcionarios_acima_media, reverse=True)\n",
        "\n",
        "    return funcionarios_acima_media\n",
        "\n",
        "# Exemplo de uso:\n",
        "funcionarios = [\n",
        "    {'nome': 'Funcionario1', 'media': 8},\n",
        "    {'nome': 'Funcionario2', 'media': 6},\n",
        "    {'nome': 'Funcionario3', 'media': 9},\n",
        "    # Adicione mais funcionários conforme necessário\n",
        "]\n",
        "\n",
        "resultado = funcionarios_acima_da_media(funcionarios)\n",
        "print(\"Funcionários com média igual ou superior à média da equipe:\", resultado)\n"
      ],
      "metadata": {
        "id": "poEG0mnOvgSO",
        "colab": {
          "base_uri": "https://localhost:8080/"
        },
        "outputId": "100e1ccb-917f-4830-bd4b-64b67af0ae87"
      },
      "execution_count": 5,
      "outputs": [
        {
          "output_type": "stream",
          "name": "stdout",
          "text": [
            "Funcionários com média igual ou superior à média da equipe: ['Funcionario3', 'Funcionario1']\n"
          ]
        }
      ]
    },
    {
      "cell_type": "markdown",
      "source": [
        "5) Na variável países_ano, temos uma lista de listas, em que cada elemento é uma lista de dois elementos, em que o primeiro é o nome de um país e o segundo é o ano em que a nação foi fundada."
      ],
      "metadata": {
        "id": "pVSP5n1T_ZWQ"
      }
    },
    {
      "cell_type": "code",
      "source": [
        "lista_paises = [[\"Brasil\", \"1500\"],[\"Mexico\",\"1519\"], [\"Inglaterra\", \"927\"], [\"Espanha\",\"1978\"], [\"Escocia\", \"843\"]]"
      ],
      "metadata": {
        "id": "zRywrNff01he"
      },
      "execution_count": null,
      "outputs": []
    },
    {
      "cell_type": "markdown",
      "source": [
        "Você deseja criar uma nova lista de listas a partir do exemplo (lista_paises), em que cada elemento é uma lista de dois elementos, sendo o primeiro o nome do país (como é na lista original) e o segundo é o número de anos desde a fundação do país (considere que o ano atual é 2023)."
      ],
      "metadata": {
        "id": "OpU-UWXC01Ca"
      }
    },
    {
      "cell_type": "code",
      "source": [
        "from datetime import datetime\n",
        "\n",
        "def calcular_anos_desde_fundacao(lista_paises, ano_atual):\n",
        "    lista_resultante = []\n",
        "\n",
        "    for pais, ano_fundacao in lista_paises:\n",
        "        ano_fundacao = int(ano_fundacao)\n",
        "        anos_desde_fundacao = ano_atual - ano_fundacao\n",
        "        lista_resultante.append([pais, anos_desde_fundacao])\n",
        "\n",
        "    return lista_resultante\n",
        "\n",
        "# Lista de paises e ano atual\n",
        "lista_paises = [[\"Brasil\", \"1500\"], [\"Mexico\", \"1519\"], [\"Inglaterra\", \"927\"], [\"Espanha\", \"1978\"], [\"Escocia\", \"843\"]]\n",
        "ano_atual = datetime.now().year\n",
        "\n",
        "# Chamada da função\n",
        "nova_lista = calcular_anos_desde_fundacao(lista_paises, ano_atual)\n",
        "\n",
        "# Exibição da nova lista\n",
        "print(nova_lista)\n"
      ],
      "metadata": {
        "id": "xaEQxcMFvhVa",
        "colab": {
          "base_uri": "https://localhost:8080/"
        },
        "outputId": "f7349a75-9bf8-45f3-eea6-ea9366499474"
      },
      "execution_count": 6,
      "outputs": [
        {
          "output_type": "stream",
          "name": "stdout",
          "text": [
            "[['Brasil', 523], ['Mexico', 504], ['Inglaterra', 1096], ['Espanha', 45], ['Escocia', 1180]]\n"
          ]
        }
      ]
    },
    {
      "cell_type": "markdown",
      "source": [
        "6) Um jogador de um jogo de vídeo game deseja subir de nível em seu personagem ao atingir 50 inimigos derrotados. Enquanto esse número não é alcançado, uma mensagem indicando quantos inimigos ainda faltam é exibida na tela.\n"
      ],
      "metadata": {
        "id": "_qb748YiCzh-"
      }
    },
    {
      "cell_type": "code",
      "source": [
        "inimigos_derrotados = 0\n",
        "nivel = 0\n",
        "\n",
        "while (inimigos_derrotados < 50):\n",
        "\n",
        "\n",
        "    print(f\"Faltam {50 - inimigos_derrotados} inimigos para você mudar de nível!\")\n",
        "\n",
        "input(\"Pressione Enter para derrotar um inimigo.\")\n",
        "inimigos_derrotados += 1\n",
        "\n",
        "print(\"\\nVocê atingiu o próximo nível!\")\n",
        "nivel = 1\n",
        "\n",
        "subir_de_nivel()"
      ],
      "metadata": {
        "id": "wooL40fJi_gj",
        "colab": {
          "base_uri": "https://localhost:8080/",
          "height": 140
        },
        "outputId": "09869f6b-d21b-4b2a-9fb9-1fcad8ccd9dd"
      },
      "execution_count": 15,
      "outputs": [
        {
          "output_type": "error",
          "ename": "IndentationError",
          "evalue": "ignored",
          "traceback": [
            "\u001b[0;36m  File \u001b[0;32m\"<ipython-input-15-efd49a975f81>\"\u001b[0;36m, line \u001b[0;32m5\u001b[0m\n\u001b[0;31m    inimigos_faltando = objetivo_inimigos - inimigos_derrotados\u001b[0m\n\u001b[0m    ^\u001b[0m\n\u001b[0;31mIndentationError\u001b[0m\u001b[0;31m:\u001b[0m expected an indented block after 'while' statement on line 4\n"
          ]
        }
      ]
    }
  ]
}