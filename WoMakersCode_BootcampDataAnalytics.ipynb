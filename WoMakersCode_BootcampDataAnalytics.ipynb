{
  "nbformat": 4,
  "nbformat_minor": 0,
  "metadata": {
    "colab": {
      "provenance": [],
      "include_colab_link": true
    },
    "kernelspec": {
      "name": "python3",
      "display_name": "Python 3"
    },
    "language_info": {
      "name": "python"
    }
  },
  "cells": [
    {
      "cell_type": "markdown",
      "metadata": {
        "id": "view-in-github",
        "colab_type": "text"
      },
      "source": [
        "<a href=\"https://colab.research.google.com/github/HeloiseOliveira/Desafio-Modulo-1-HTML/blob/main/WoMakersCode_BootcampDataAnalytics.ipynb\" target=\"_parent\"><img src=\"https://colab.research.google.com/assets/colab-badge.svg\" alt=\"Open In Colab\"/></a>"
      ]
    },
    {
      "cell_type": "markdown",
      "source": [
        "1 ) Para determinar se um candidato está qualificado para uma vaga de emprego, são aplicados dois critérios:\n",
        "\n",
        "a) O candidato deve ter uma presença igual ou superior a 60% em um treinamento obrigatório.\n",
        "\n",
        "b) O candidato deve ter uma média de desempenho igual ou superior a 7 em uma série de testes.\n",
        "\n",
        "Para auxiliar na avaliação dos candidatos, você deve criar uma função que recebe uma lista de dicionários contendo o nome do candidato, a média de desempenho e a quantidade de horas de ausência do treinamento. Com esses dados, a função deve calcular se o candidato está qualificado ou não. A presença do candidato é calculada considerando que o treinamento teve um total de 60 horas e utilizando a fórmula:\n",
        "\n",
        "(Total horas - número de faltas)/Total horas * 100;\n"
      ],
      "metadata": {
        "id": "3UpM724I5C19"
      }
    },
    {
      "cell_type": "code",
      "source": [
        "def avaliar_candidato(candidato):\n",
        "    def calcular_presenca(quantidade_horas, faltas):\n",
        "        total_horas = 60\n",
        "        presenca = ((total_horas - faltas) / total_horas) * 100\n",
        "        return presenca\n",
        "\n",
        "    presenca_minima = 60\n",
        "    media_minima = 7\n",
        "\n",
        "    nome = candidato['nome']\n",
        "    media_desempenho = candidato['media_desempenho']\n",
        "    horas_ausencia = candidato['horas_ausencia']\n",
        "\n",
        "    presenca = calcular_presenca(60, horas_ausencia)\n",
        "\n",
        "    if presenca >= presenca_minima and media_desempenho >= media_minima:\n",
        "        return f'O candidato {nome} está qualificado para a vaga de emprego.'\n",
        "    else:\n",
        "        return f'O candidato {nome} não está qualificado para a vaga de emprego.'\n",
        "\n",
        "# Exemplo de uso:\n",
        "candidatos = [\n",
        "    {'nome': 'Candidato1', 'media_desempenho': 8, 'horas_ausencia': 10},\n",
        "    {'nome': 'Candidato2', 'media_desempenho': 6, 'horas_ausencia': 5},\n",
        "    # Adicione mais candidatos conforme necessário\n",
        "]\n",
        "\n",
        "for candidato in candidatos:\n",
        "    print(avaliar_candidato(candidato))\n"
      ],
      "metadata": {
        "id": "Xv1MnjPQvkSt",
        "colab": {
          "base_uri": "https://localhost:8080/"
        },
        "outputId": "b6dee182-c062-4315-a88f-dd287ab3bad6"
      },
      "execution_count": 1,
      "outputs": [
        {
          "output_type": "stream",
          "name": "stdout",
          "text": [
            "O candidato Candidato1 está qualificado para a vaga de emprego.\n",
            "O candidato Candidato2 não está qualificado para a vaga de emprego.\n"
          ]
        }
      ]
    },
    {
      "cell_type": "markdown",
      "source": [
        "2) Crie uma função que recebe uma palavra (string), separa todos os caracteres em uma lista, retorna esta lista e quantidade de letras."
      ],
      "metadata": {
        "id": "fKKdyWo55e8w"
      }
    },
    {
      "cell_type": "code",
      "source": [
        "#Execute seu código aqui"
      ],
      "metadata": {
        "id": "Qq7QoqubvjbG"
      },
      "execution_count": null,
      "outputs": []
    },
    {
      "cell_type": "markdown",
      "source": [
        "3) Crie um programa que leia quanto dinheiro uma pessoa tem na carteira, e calcule quanto poderia comprar de cada moeda estrangeira. Considere a tabela de conversão abaixo:\n",
        "\n",
        "Valor convertido em real:\n",
        "*   Dólar Americano: 4,91\n",
        "*   Peso Argentino: 0,02\n",
        "*   Dólar Australiano: 3,18\n",
        "*   Dólar Canadense: 3,64\n",
        "*   Franco Suiço: 0,42\n",
        "*   Euro:  5,36\n",
        "*   Libra esterlina: 6,21\n",
        "\n",
        "\n",
        "\n",
        "\n",
        "\n",
        "\n",
        "\n"
      ],
      "metadata": {
        "id": "EEXxWdjH5sju"
      }
    },
    {
      "cell_type": "code",
      "source": [
        "#Execute seu código aqui"
      ],
      "metadata": {
        "id": "BFil1HpZvbFg"
      },
      "execution_count": null,
      "outputs": []
    },
    {
      "cell_type": "markdown",
      "source": [
        "\n",
        "4) O chefe decidiu premiar os melhores funcionários de sua empresa com um brinde. Para isso ela vai entregar um brinde para todos os funcionários que tiverem uma performance superior a média da equipe.\n",
        "\n",
        "Elabore uma função que recebe uma lista de nome em formato de dict (dicionário) com nome do funcionário e a média do funcionário (Valor de 0 a 10). Esta função deve calcular a média da equipe, identificar quais funcionários tem média igual ou superior a média da equipe e retornar uma lista com o nome dos funcionários que possuem média igual ou superior a média da equipe. A ordem dos nomes da lista de retorno deve ser em ordem decrescente."
      ],
      "metadata": {
        "id": "Tj2Ds76-6FXs"
      }
    },
    {
      "cell_type": "code",
      "source": [
        "#Execute seu código aqui"
      ],
      "metadata": {
        "id": "poEG0mnOvgSO"
      },
      "execution_count": null,
      "outputs": []
    },
    {
      "cell_type": "markdown",
      "source": [
        "5) Na variável países_ano, temos uma lista de listas, em que cada elemento é uma lista de dois elementos, em que o primeiro é o nome de um país e o segundo é o ano em que a nação foi fundada."
      ],
      "metadata": {
        "id": "pVSP5n1T_ZWQ"
      }
    },
    {
      "cell_type": "code",
      "source": [
        "lista_paises = [[\"Brasil\", \"1500\"],[\"Mexico\",\"1519\"], [\"Inglaterra\", \"927\"], [\"Espanha\",\"1978\"], [\"Escocia\", \"843\"]]"
      ],
      "metadata": {
        "id": "zRywrNff01he"
      },
      "execution_count": null,
      "outputs": []
    },
    {
      "cell_type": "markdown",
      "source": [
        "Você deseja criar uma nova lista de listas a partir do exemplo (lista_paises), em que cada elemento é uma lista de dois elementos, sendo o primeiro o nome do país (como é na lista original) e o segundo é o número de anos desde a fundação do país (considere que o ano atual é 2023)."
      ],
      "metadata": {
        "id": "OpU-UWXC01Ca"
      }
    },
    {
      "cell_type": "code",
      "source": [
        "#Execute seu código aqui"
      ],
      "metadata": {
        "id": "xaEQxcMFvhVa"
      },
      "execution_count": null,
      "outputs": []
    },
    {
      "cell_type": "markdown",
      "source": [
        "6) Um jogador de um jogo de vídeo game deseja subir de nível em seu personagem ao atingir 50 inimigos derrotados. Enquanto esse número não é alcançado, uma mensagem indicando quantos inimigos ainda faltam é exibida na tela.\n"
      ],
      "metadata": {
        "id": "_qb748YiCzh-"
      }
    },
    {
      "cell_type": "code",
      "source": [
        "inimigos_derrotados = 0\n",
        "nivel = 0\n",
        "\n",
        "while (inimigos_derrotados < 50):\n",
        "\n",
        "    print(f\"Faltam {50 - inimigos_derrotados} inimigos para você mudar de nível!\")\n",
        "\n",
        "    # faça seu código aqui\n",
        "\n",
        "print(\"\\nVocê atingiu o próximo nível!\")\n",
        "nivel = 1"
      ],
      "metadata": {
        "id": "wooL40fJi_gj"
      },
      "execution_count": null,
      "outputs": []
    }
  ]
}